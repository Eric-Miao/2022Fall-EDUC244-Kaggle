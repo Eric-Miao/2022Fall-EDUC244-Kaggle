{
 "cells": [
  {
   "cell_type": "markdown",
   "id": "619e1762-efa3-448e-ac4e-77d72f781db6",
   "metadata": {},
   "source": [
    "# import and read data"
   ]
  },
  {
   "cell_type": "code",
   "execution_count": 1,
   "id": "818abed9-671f-4386-9fe7-889f706f1b4f",
   "metadata": {},
   "outputs": [],
   "source": [
    "import pandas as pd\n",
    "import numpy as np\n",
    "from math import log\n",
    "\n",
    "from sklearn.neural_network import MLPClassifier\n",
    "from sklearn.svm import SVC\n",
    "\n",
    "from sklearn.preprocessing import StandardScaler, MinMaxScaler\n",
    "from sklearn.preprocessing import LabelEncoder, OneHotEncoder\n",
    "\n",
    "from sklearn.svm import SVC\n",
    "\n",
    "from sklearn.pipeline import Pipeline\n",
    "from sklearn.metrics import accuracy_score\n",
    "from sklearn.model_selection import train_test_split\n",
    "from sklearn.model_selection import GridSearchCV, ParameterGrid\n",
    "from sklearn.ensemble import RandomForestClassifier\n",
    "\n"
   ]
  },
  {
   "cell_type": "markdown",
   "id": "c344a9aa-34a0-4012-8642-167301e57b1a",
   "metadata": {},
   "source": [
    "# Data Dictionary\n",
    "## Variable\n",
    "Survived : Survival, 0 = No, 1 = Yes\n",
    "\n",
    "Pclass : Ticket class, 1 = 1st, 2 = 2nd, 3 = 3rd\n",
    "\n",
    "Sex : Sex\n",
    "\n",
    "Age: Age in years\n",
    "\n",
    "SibSp: Number of siblings / spouses aboard the Titanic\n",
    "\n",
    "Parch: Number of parents / children aboard the Titanic\n",
    "\n",
    "Ticket: Ticket number\n",
    "\n",
    "Fare: Passenger fare\n",
    "\n",
    "Cabin: Cabin number\n",
    "\n",
    "Embarked: Part of Embarkation, C = Cherbourg, Q = Queenstown, S = Southampton\n",
    "\n",
    "## Variable Notes\n",
    "Pclass: A proxy for socio-economic status (SES) 1st = Upper 2nd = Middle 3rd = Lower\n",
    "\n",
    "Age: Age is fractional if less than 1. If the age is estimated, is it in the form of xx.5\n",
    "\n",
    "SibSp: The number of siblings/spouses\n",
    "\n",
    "Parch: The number of parents/children\n",
    "\n",
    "Some children travelled only with a nanny, therefore parch=0 for them."
   ]
  },
  {
   "cell_type": "code",
   "execution_count": 4,
   "id": "9523df55-ced7-4fcc-829f-aec82d5aec68",
   "metadata": {},
   "outputs": [],
   "source": [
    "dfRaw_train = pd.read_csv('train.csv')\n",
    "dfRaw_test = pd.read_csv('test.csv')"
   ]
  },
  {
   "cell_type": "code",
   "execution_count": null,
   "id": "563156c6-3912-4383-8ac4-9632bc0ec635",
   "metadata": {},
   "outputs": [
    {
     "data": {
      "text/plain": [
       "PassengerId      0\n",
       "Pclass           0\n",
       "Name             0\n",
       "Sex              0\n",
       "Age             86\n",
       "SibSp            0\n",
       "Parch            0\n",
       "Ticket           0\n",
       "Fare             1\n",
       "Cabin          327\n",
       "Embarked         0\n",
       "dtype: int64"
      ]
     },
     "execution_count": 55,
     "metadata": {},
     "output_type": "execute_result"
    }
   ],
   "source": [
    "dfRaw_test.isna().sum()"
   ]
  },
  {
   "cell_type": "code",
   "execution_count": 7,
   "id": "543a9f81-708b-47fa-98d6-5423ac4afe47",
   "metadata": {},
   "outputs": [],
   "source": [
    "# Seems that the Cabin number doesn't really help with so many nan, drop.\n",
    "dfTrain = dfRaw_train.drop('Cabin',axis=1)\n",
    "\n",
    "# Also drops the rows with null by embarked and Age\n",
    "dfTrain = dfTrain.dropna(axis=0,subset=['Embarked','Age'])"
   ]
  },
  {
   "cell_type": "code",
   "execution_count": 59,
   "id": "ef7928ab-f98b-44ba-812d-a43357a940d3",
   "metadata": {},
   "outputs": [],
   "source": [
    "dfTest = dfRaw_test.drop('Cabin',axis=1)\n",
    "\n",
    "# Also drops the rows with null by embarked and Age\n",
    "mean_age = dfTest.Age.mean()\n",
    "mean_fare = dfTest.Fare.mean()\n",
    "dfTest['Age'].fillna(mean_age,inplace=True)\n",
    "dfTest['Fare'].fillna(mean_fare,inplace=True)\n"
   ]
  },
  {
   "cell_type": "code",
   "execution_count": 73,
   "id": "40a5743c-9cf2-42a1-8b6f-d82eee95d3e6",
   "metadata": {},
   "outputs": [
    {
     "data": {
      "text/plain": [
       "PassengerId    0\n",
       "Survived       0\n",
       "Pclass         0\n",
       "Name           0\n",
       "Sex            0\n",
       "Age            0\n",
       "SibSp          0\n",
       "Parch          0\n",
       "Ticket         0\n",
       "Fare           0\n",
       "Embarked       0\n",
       "dtype: int64"
      ]
     },
     "execution_count": 73,
     "metadata": {},
     "output_type": "execute_result"
    }
   ],
   "source": [
    "dfTrain.isna().sum()"
   ]
  },
  {
   "cell_type": "markdown",
   "id": "6cfdd33c-37d2-4db9-9f35-7093243b82eb",
   "metadata": {
    "tags": []
   },
   "source": [
    "# Data ready"
   ]
  },
  {
   "cell_type": "code",
   "execution_count": 124,
   "id": "29051d0a-1a6c-42b2-a4fa-64ffe4b51dfb",
   "metadata": {},
   "outputs": [],
   "source": [
    "# Age, Sex, Pclass, Embarked, Fare, Sibsp\n",
    "\n",
    "X_train = dfTrain[['Age','Fare','SibSp','Parch']].reset_index()\n",
    "X_train['Fam_size'] = X_train['SibSp'] + X_train['Parch']\n",
    "X_train.drop(columns=['SibSp','Parch'],axis=1,inplace=True)\n",
    "\n",
    "\n",
    "\n",
    "dftemp = dfTrain[['Embarked','Pclass','Sex']].astype('category')\n",
    "onehot = OneHotEncoder()\n",
    "dftemp_onehot = pd.DataFrame(onehot.fit_transform(dftemp).toarray(),columns = onehot.get_feature_names())\n",
    "\n",
    "X_train = pd.concat([X_train,dftemp_onehot],axis=1)\n",
    "\n",
    "Y_train = dfTrain.Survived"
   ]
  },
  {
   "cell_type": "code",
   "execution_count": 125,
   "id": "b769390a-872f-4c2a-8cb1-ace2bf4a82ff",
   "metadata": {},
   "outputs": [],
   "source": [
    "X_test = dfTest[['Age','Fare','SibSp','Parch']].reset_index()\n",
    "X_test['Fam_size'] = X_test['SibSp'] + X_test['Parch']\n",
    "X_test.drop(columns=['SibSp','Parch'],axis=1,inplace=True)\n",
    "\n",
    "\n",
    "\n",
    "dftemp = dfTest[['Embarked','Pclass','Sex']].astype('category')\n",
    "onehot = OneHotEncoder()\n",
    "dftemp_onehot = pd.DataFrame(onehot.fit_transform(dftemp).toarray(),columns = onehot.get_feature_names())\n",
    "\n",
    "X_test = pd.concat([X_test,dftemp_onehot],axis=1)\n"
   ]
  },
  {
   "cell_type": "markdown",
   "id": "423431c0-a4e8-474a-8893-cf071ec936f9",
   "metadata": {},
   "source": [
    "# Data ready"
   ]
  },
  {
   "cell_type": "code",
   "execution_count": 154,
   "id": "8947fa63-64de-4217-86ec-3797e34b9fc4",
   "metadata": {},
   "outputs": [
    {
     "data": {
      "text/plain": [
       "0.901685393258427"
      ]
     },
     "execution_count": 154,
     "metadata": {},
     "output_type": "execute_result"
    }
   ],
   "source": [
    "clf = RandomForestClassifier(n_estimators=1000,\n",
    "                                      min_samples_split=12,\n",
    "                                      min_samples_leaf=1,\n",
    "                                      oob_score=True,\n",
    "                                     max_depth=10,\n",
    "                                      random_state=1\n",
    "                                     )\n",
    "\n",
    "clf.fit(X_train,Y_train)\n",
    "Y_train_pred = clf.predict(X_train)\n",
    "\n",
    "clf.score(X_train,Y_train)"
   ]
  },
  {
   "cell_type": "code",
   "execution_count": 155,
   "id": "b06caca7-717a-438b-8eae-38df3142b36c",
   "metadata": {},
   "outputs": [],
   "source": [
    "Y_test_pred=clf.predict(X_test)\n",
    "\n",
    "dfPred = dfTest[['PassengerId']].copy()\n",
    "\n",
    "dfPred['Survived'] = Y_test_pred"
   ]
  },
  {
   "cell_type": "code",
   "execution_count": 153,
   "id": "8019e9e1-77c0-4fbf-a353-6c51e8746b24",
   "metadata": {},
   "outputs": [],
   "source": [
    "# dfPred.to_csv('SVN_005.csv',index=False)"
   ]
  },
  {
   "cell_type": "code",
   "execution_count": null,
   "id": "635b209c-f714-4d3e-bfb3-69f7e244c636",
   "metadata": {},
   "outputs": [],
   "source": []
  },
  {
   "cell_type": "code",
   "execution_count": null,
   "id": "463a3d7a-7077-4450-9aa6-baa4de43d88e",
   "metadata": {},
   "outputs": [],
   "source": []
  }
 ],
 "metadata": {
  "kernelspec": {
   "display_name": "Python 3 (ipykernel)",
   "language": "python",
   "name": "python3"
  },
  "language_info": {
   "codemirror_mode": {
    "name": "ipython",
    "version": 3
   },
   "file_extension": ".py",
   "mimetype": "text/x-python",
   "name": "python",
   "nbconvert_exporter": "python",
   "pygments_lexer": "ipython3",
   "version": "3.9.7"
  }
 },
 "nbformat": 4,
 "nbformat_minor": 5
}
